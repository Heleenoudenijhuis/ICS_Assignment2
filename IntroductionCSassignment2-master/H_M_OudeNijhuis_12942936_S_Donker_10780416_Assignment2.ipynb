{
 "cells": [
  {
   "cell_type": "markdown",
   "metadata": {},
   "source": [
    "## Problem 1: Gillespie’s Direct Algorithm\n",
    "We have discussed the five hallmarks of stochastic SIR dynamics: variability; negative\n",
    "co-variances; increased transients; stochastic resonance; and extinctions. Some of those\n",
    "were demonstrated in the stochastic versions of the SIR ODEs (using constant or scaled\n",
    "noise terms) and some were shown in the context of event driven SIR.\n",
    "\n",
    "We ask you to explore the five hallmarks in an SIR discrete event model using Gillespie’s\n",
    "direct algorithm. Design a set of well chosen experiments to demonstrate all these aspects,also exploring the dependence on the basic parameters in the model.\n",
    "\n",
    "Advanced topic: Try to reproduce the graphs from the book in relation to persistence\n",
    "and critical community size, or try to measure e.g. the first passage time. You can also\n",
    "consider other models, e.g. SIS, SEIR, SIRS, etc.\n",
    "\n",
    "Hint: start with SIR without demography, then add demography, and finally add imports\n",
    "to the model.\n"
   ]
  },
  {
   "cell_type": "code",
   "execution_count": 4,
   "metadata": {},
   "outputs": [],
   "source": [
    "# Heleen Oude Nijhuis\n",
    "# 12942936\n",
    "# Introduction to computational science\n",
    "# Assignment 1\n",
    "\n",
    "\n",
    "# Importing libraries and packages\n",
    "from scipy.integrate import odeint\n",
    "import numpy as np\n",
    "import pandas as pd\n",
    "import matplotlib.pyplot as plt\n",
    "%matplotlib inline\n",
    "import pylab as plb\n",
    "from scipy.optimize import curve_fit\n",
    "from scipy import asarray as ar,exp\n",
    "from scipy.fftpack import fft\n",
    "import matplotlib as mpl\n",
    "mpl.rcParams['figure.dpi'] = 300"
   ]
  },
  {
   "cell_type": "code",
   "execution_count": 3,
   "metadata": {},
   "outputs": [
    {
     "data": {
      "image/png": "[encoded data removed]",
      "text/plain": [
       "<Figure size 432x288 with 1 Axes>"
      ]
     },
     "metadata": {
      "needs_background": "light"
     },
     "output_type": "display_data"
    },
    {
     "data": {
      "text/plain": [
       "<Figure size 432x288 with 0 Axes>"
      ]
     },
     "metadata": {},
     "output_type": "display_data"
    }
   ],
   "source": [
    "# Basic script for SIR model without geography\n",
    "\n",
    "# Differential equations\n",
    "def sir_without(y, t, beta, gamma):\n",
    "    S, I, R = y\n",
    "    dSdt = -beta * S * I\n",
    "    dIdt = beta * S * I - gamma * I\n",
    "    dRdt = gamma * I\n",
    "    return [dSdt, dIdt, dRdt]\n",
    "\n",
    "# Variables\n",
    "beta = 3\n",
    "gamma = 1\n",
    "y0 = [0.999, 0.001, 0] # Set initial values for [S, I, R]\n",
    "t = np.linspace(0,15,300)\n",
    "\n",
    "# Generate the solution\n",
    "sol = odeint(sir_without, y0, t, args = (beta, gamma))\n",
    "\n",
    "# Plot the results\n",
    "plt.plot(t, sol[:, 0], 'y', label='Susceptible')\n",
    "plt.plot(t, sol[:, 1], 'r', label='Infected')\n",
    "plt.plot(t, sol[:, 2], 'g', label='Recovered')\n",
    "plt.legend(loc='best')\n",
    "plt.xlabel('Days')\n",
    "plt.ylabel('Number of people (normalized)')\n",
    "plt.grid()\n",
    "plt.show()\n",
    "plt.savefig('Graph1_introCS.jpg')\n"
   ]
  },
  {
   "cell_type": "code",
   "execution_count": null,
   "metadata": {},
   "outputs": [],
   "source": [
    "# Discrete event simulation\n",
    "\n",
    "def sir_event_demo(y, t, beta, gamma):\n",
    "    \n",
    "    X\n",
    "\n",
    "    # birth, transmission, recovery, death X, death Y, death Z\n",
    "    rates = [mu * N, beta * X * Y / N, gamma * Y, mu * X, mu * Y, mu * Z]\n",
    "    \n",
    "    dt = []\n",
    "    for i in range(6):\n",
    "        u = np.random.uniform(0, 1)\n",
    "        dt.append(-np.log(u) / rates[i])\n",
    "        \n",
    "    first_event = dt.index(min(dt))\n",
    "    \n",
    "    if first_event == 0:\n",
    "        X = X + 1\n",
    "        \n",
    "    elif first_event == 1:\n",
    "        X = X - 1\n",
    "        Y = Y + 1\n",
    "        \n",
    "    elif first_event == 2:\n",
    "        Y = Y - 1\n",
    "        Z = Z + 1\n",
    "        \n",
    "    elif first_event == 3:\n",
    "        X = X - 1\n",
    "        \n",
    "    elif first_event == 4:\n",
    "        Y = Y - 1\n",
    "        \n",
    "    else:\n",
    "        Z = Z - 1\n",
    "        \n",
    "    t += min(dt)\n",
    "    \n",
    "    \n",
    "    \n",
    "\n",
    "    \n",
    "    "
   ]
  }
 ],
 "metadata": {
  "kernelspec": {
   "display_name": "Python 2",
   "language": "python",
   "name": "python2"
  },
  "language_info": {
   "codemirror_mode": {
    "name": "ipython",
    "version": 2
   },
   "file_extension": ".py",
   "mimetype": "text/x-python",
   "name": "python",
   "nbconvert_exporter": "python",
   "pygments_lexer": "ipython2",
   "version": "2.7.16"
  }
 },
 "nbformat": 4,
 "nbformat_minor": 2
}
