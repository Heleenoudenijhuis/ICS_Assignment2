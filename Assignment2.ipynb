{
 "cells": [
  {
   "cell_type": "markdown",
   "metadata": {},
   "source": [
    "## Problem 1: Gillespie’s Direct Algorithm\n",
    "We have discussed the five hallmarks of stochastic SIR dynamics: variability; negative\n",
    "co-variances; increased transients; stochastic resonance; and extinctions. Some of those\n",
    "were demonstrated in the stochastic versions of the SIR ODEs (using constant or scaled\n",
    "noise terms) and some were shown in the context of event driven SIR.\n",
    "\n",
    "We ask you to explore the five hallmarks in an SIR discrete event model using Gillespie’s\n",
    "direct algorithm. Design a set of well chosen experiments to demonstrate all these aspects,also exploring the dependence on the basic parameters in the model.\n",
    "\n",
    "Advanced topic: Try to reproduce the graphs from the book in relation to persistence\n",
    "and critical community size, or try to measure e.g. the first passage time. You can also\n",
    "consider other models, e.g. SIS, SEIR, SIRS, etc.\n",
    "\n",
    "Hint: start with SIR without demography, then add demography, and finally add imports\n",
    "to the model.\n"
   ]
  },
  {
   "cell_type": "code",
   "execution_count": 2,
   "metadata": {},
   "outputs": [],
   "source": [
    "import numpy as np\n",
    "import matplotlib.pyplot as plt\n",
    "from scipy.integrate import odeint\n",
    "from scipy import integrate, optimize\n",
    "from ipywidgets import interact, interactive, fixed, interact_manual\n",
    "import ipywidgets as widgets\n",
    "from scipy.fftpack import fft"
   ]
  },
  {
   "cell_type": "code",
   "execution_count": 5,
   "metadata": {},
   "outputs": [],
   "source": [
    "# SIR model\n",
    "def sir_without(y, t, beta, gamma):\n",
    "    S, I, R = y\n",
    "    dSdt = -beta * S * I\n",
    "    dIdt = beta * S * I - gamma * I\n",
    "    dRdt = gamma * I\n",
    "    return [dSdt, dIdt, dRdt]\n",
    "\n",
    "# initial conditions: infecteds, removed and subsceptibles\n",
    "I0, R0 = 0.01, 0\n",
    "S0 = 1 - I0 - R0\n",
    "y0 = [S0, I0, R0]\n",
    "\n",
    "# set values for beta and gamma\n",
    "beta = 3\n",
    "gamma = 1\n",
    "\n",
    "# set a time interval\n",
    "t = np.linspace(0, 10, 100)\n",
    "\n",
    "ret = odeint(sir_without, y0, t, args=(beta, gamma))\n",
    "S, I, R = ret.T"
   ]
  },
  {
   "cell_type": "markdown",
   "metadata": {},
   "source": [
    "1. Label all possible events E1,...,En. \n",
    "2. For each event determine the rate at which it occurs, R1,...,Rn. \n",
    "3. The rate at which any event occurs is Rtotal =\n",
    "4. The time until the next event is δt = −1 Rtotal log(RAND1). ?n m=1 Rm.\n",
    "5. Generate a new random number, RAND2. Set P =RAND2 ×Rtotal .\n",
    "6. Event p occurs if \n",
    "7. The time is now updated, t → t +δt, and event p is performed.\n",
    "8. Return to Step 2."
   ]
  },
  {
   "cell_type": "code",
   "execution_count": 3,
   "metadata": {},
   "outputs": [
    {
     "ename": "TypeError",
     "evalue": "poisson() takes at most 2 positional arguments (3 given)",
     "output_type": "error",
     "traceback": [
      "\u001b[1;31m---------------------------------------------------------------------------\u001b[0m",
      "\u001b[1;31mTypeError\u001b[0m                                 Traceback (most recent call last)",
      "\u001b[1;32m<ipython-input-3-31a4c7a5b10c>\u001b[0m in \u001b[0;36m<module>\u001b[1;34m\u001b[0m\n\u001b[1;32m----> 1\u001b[1;33m \u001b[0mnp\u001b[0m\u001b[1;33m.\u001b[0m\u001b[0mrandom\u001b[0m\u001b[1;33m.\u001b[0m\u001b[0mpoisson\u001b[0m\u001b[1;33m(\u001b[0m\u001b[1;36m0\u001b[0m\u001b[1;33m,\u001b[0m \u001b[1;36m1\u001b[0m\u001b[1;33m,\u001b[0m \u001b[1;36m100\u001b[0m\u001b[1;33m)\u001b[0m\u001b[1;33m\u001b[0m\u001b[1;33m\u001b[0m\u001b[0m\n\u001b[0m",
      "\u001b[1;32mmtrand.pyx\u001b[0m in \u001b[0;36mmtrand.RandomState.poisson\u001b[1;34m()\u001b[0m\n",
      "\u001b[1;31mTypeError\u001b[0m: poisson() takes at most 2 positional arguments (3 given)"
     ]
    }
   ],
   "source": [
    "np.random.poisson(0, 1, 100)"
   ]
  }
 ],
 "metadata": {
  "kernelspec": {
   "display_name": "p36workshop",
   "language": "python",
   "name": "p36workshop"
  },
  "language_info": {
   "codemirror_mode": {
    "name": "ipython",
    "version": 3
   },
   "file_extension": ".py",
   "mimetype": "text/x-python",
   "name": "python",
   "nbconvert_exporter": "python",
   "pygments_lexer": "ipython3",
   "version": "3.6.9"
  }
 },
 "nbformat": 4,
 "nbformat_minor": 2
}
